{
 "cells": [
  {
   "cell_type": "code",
   "execution_count": 1,
   "metadata": {},
   "outputs": [
    {
     "name": "stdout",
     "output_type": "stream",
     "text": [
      "Name: Chuck\n",
      "Hide: yes\n"
     ]
    }
   ],
   "source": [
    "import json\n",
    "\n",
    "data = '''\n",
    "{\n",
    "  \"name\" : \"Chuck\",\n",
    "  \"phone\" : {\n",
    "    \"type\" : \"intl\",\n",
    "    \"number\" : \"+1 734 303 4456\"\n",
    "   },\n",
    "   \"email\" : {\n",
    "     \"hide\" : \"yes\"\n",
    "   }\n",
    "}'''\n",
    "\n",
    "info = json.loads(data)\n",
    "print('Name:', info[\"name\"])\n",
    "print('Hide:', info[\"email\"][\"hide\"])"
   ]
  },
  {
   "cell_type": "code",
   "execution_count": 2,
   "metadata": {},
   "outputs": [
    {
     "name": "stdout",
     "output_type": "stream",
     "text": [
      "User count: 2\n",
      "Name Chuck\n",
      "Id 001\n",
      "Attribute 2\n",
      "Name Brent\n",
      "Id 009\n",
      "Attribute 7\n"
     ]
    }
   ],
   "source": [
    "import json\n",
    "\n",
    "data = '''\n",
    "[\n",
    "  { \"id\" : \"001\",\n",
    "    \"x\" : \"2\",\n",
    "    \"name\" : \"Chuck\"\n",
    "  } ,\n",
    "  { \"id\" : \"009\",\n",
    "    \"x\" : \"7\",\n",
    "    \"name\" : \"Brent\"\n",
    "  }\n",
    "]'''\n",
    "\n",
    "info = json.loads(data)\n",
    "print('User count:', len(info))\n",
    "\n",
    "for item in info:\n",
    "    print('Name', item['name'])\n",
    "    print('Id', item['id'])\n",
    "    print('Attribute', item['x'])"
   ]
  },
  {
   "cell_type": "code",
   "execution_count": 9,
   "metadata": {},
   "outputs": [
    {
     "name": "stdout",
     "output_type": "stream",
     "text": [
      "Enter Url - http://py4e-data.dr-chuck.net/comments_422862.json\n",
      "Sum :  2790\n",
      "count :  50\n"
     ]
    }
   ],
   "source": [
    "import json\n",
    "import urllib\n",
    "\n",
    "count = 0\n",
    "sum = 0\n",
    "url = input(\"Enter Url - \")\n",
    "\n",
    "data = urllib.request.urlopen(url).read().decode()\n",
    "\n",
    "info = json.loads(data)\n",
    "\n",
    "for i in info['comments']:\n",
    "    count = count+1\n",
    "    sum = sum + i['count']\n",
    "print(\"Sum : \",sum)   \n",
    "print(\"count : \",count)"
   ]
  },
  {
   "cell_type": "code",
   "execution_count": 11,
   "metadata": {},
   "outputs": [
    {
     "name": "stdout",
     "output_type": "stream",
     "text": [
      "Enter location: South Federal University\n",
      "Retrieving http://py4e-data.dr-chuck.net/json?address=South+Federal+University&key=42\n",
      "Retrieved 2505 characters\n",
      "ChIJ0V94rPl_bIcRqLdrlbjFMDk\n",
      "Enter location: Indiana University at Bloomington\n",
      "Retrieving http://py4e-data.dr-chuck.net/json?address=Indiana+University+at+Bloomington&key=42\n",
      "Retrieved 2345 characters\n",
      "ChIJM62JZ8JmbIgRNtQVs4ugmTQ\n",
      "Enter location: asc\n",
      "Retrieving http://py4e-data.dr-chuck.net/json?address=asc&key=42\n",
      "Retrieved 2287 characters\n",
      "ChIJqfZpkwiVtocRPP5tMlZ6ZH0\n",
      "Enter location: \n"
     ]
    }
   ],
   "source": [
    "import urllib.request, urllib.parse, urllib.error\n",
    "import json\n",
    "import ssl\n",
    "\n",
    "api_key = 42\n",
    "serviceurl = 'http://py4e-data.dr-chuck.net/json?'\n",
    "\n",
    "# Ignore SSL certificate errors\n",
    "ctx = ssl.create_default_context()\n",
    "ctx.check_hostname = False\n",
    "ctx.verify_mode = ssl.CERT_NONE\n",
    "\n",
    "while True:\n",
    "    address = input('Enter location: ')\n",
    "    if len(address) < 1: break\n",
    "\n",
    "    parms = dict()\n",
    "    parms['address'] = address\n",
    "    parms['key'] = api_key\n",
    "    url = serviceurl + urllib.parse.urlencode(parms)\n",
    "\n",
    "    print('Retrieving', url)\n",
    "    uh = urllib.request.urlopen(url, context=ctx)\n",
    "    data = uh.read().decode()\n",
    "    print('Retrieved', len(data), 'characters')\n",
    "\n",
    "    try:\n",
    "        js = json.loads(data)\n",
    "    except:\n",
    "        js = None\n",
    "\n",
    "    if not js or 'status' not in js or js['status'] != 'OK':\n",
    "        print('==== Failure To Retrieve ====')\n",
    "        print(data)\n",
    "        continue\n",
    "\n",
    "    #print(json.dumps(js, indent=4))\n",
    "\n",
    "    id = js['results'][0]['place_id']\n",
    "    print(id)"
   ]
  },
  {
   "cell_type": "code",
   "execution_count": null,
   "metadata": {},
   "outputs": [],
   "source": []
  }
 ],
 "metadata": {
  "kernelspec": {
   "display_name": "Python 3",
   "language": "python",
   "name": "python3"
  },
  "language_info": {
   "codemirror_mode": {
    "name": "ipython",
    "version": 3
   },
   "file_extension": ".py",
   "mimetype": "text/x-python",
   "name": "python",
   "nbconvert_exporter": "python",
   "pygments_lexer": "ipython3",
   "version": "3.7.6"
  }
 },
 "nbformat": 4,
 "nbformat_minor": 4
}
