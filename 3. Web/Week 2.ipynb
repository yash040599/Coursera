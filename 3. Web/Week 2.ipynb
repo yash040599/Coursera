{
 "cells": [
  {
   "cell_type": "code",
   "execution_count": 6,
   "metadata": {},
   "outputs": [
    {
     "name": "stdout",
     "output_type": "stream",
     "text": [
      "Enter File name :regex_sum_422857.txt\n",
      "There are 94 values with a sum = 430018\n"
     ]
    }
   ],
   "source": [
    "import re\n",
    "\n",
    "fname = input('Enter File name :')\n",
    "\n",
    "handle = open(fname)\n",
    "\n",
    "sum=0\n",
    "\n",
    "count = 0\n",
    "\n",
    "for line in handle:\n",
    "\t\n",
    "\tf = re.findall('[0-9]+',line)\n",
    "\t\n",
    "\tfor num in f:\n",
    "\t\t\n",
    "\t\tif int(num) >= 0:\n",
    "\t\t\t\n",
    "\t\t\tcount = count + 1\n",
    "\t\t\tsum = sum + int(num)\n",
    "\t\t\n",
    "print('There are',count,'values with a sum =',sum)"
   ]
  },
  {
   "cell_type": "code",
   "execution_count": null,
   "metadata": {},
   "outputs": [],
   "source": []
  }
 ],
 "metadata": {
  "kernelspec": {
   "display_name": "Python 3",
   "language": "python",
   "name": "python3"
  },
  "language_info": {
   "codemirror_mode": {
    "name": "ipython",
    "version": 3
   },
   "file_extension": ".py",
   "mimetype": "text/x-python",
   "name": "python",
   "nbconvert_exporter": "python",
   "pygments_lexer": "ipython3",
   "version": "3.7.6"
  }
 },
 "nbformat": 4,
 "nbformat_minor": 4
}
